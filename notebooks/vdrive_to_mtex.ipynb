{
 "cells": [
  {
   "cell_type": "code",
   "execution_count": 2,
   "metadata": {
    "run_control": {
     "frozen": false,
     "read_only": false
    }
   },
   "outputs": [],
   "source": [
    "import pandas as pd\n",
    "import sys, os\n",
    "import re\n",
    "import numpy as np\n",
    "sys.path.insert(0, os.path.abspath('..'))\n",
    "from project.preparation.vdrive_to_mtex import VdriveToMtex"
   ]
  },
  {
   "cell_type": "markdown",
   "metadata": {},
   "source": [
    "# How it works "
   ]
  },
  {
   "cell_type": "markdown",
   "metadata": {},
   "source": [
    "## Step by step"
   ]
  },
  {
   "cell_type": "code",
   "execution_count": 3,
   "metadata": {
    "collapsed": true
   },
   "outputs": [],
   "source": [
    "vdrive_filename = '../tests/data/ducu.txt'\n",
    "assert os.path.exists(vdrive_filename)"
   ]
  },
  {
   "cell_type": "markdown",
   "metadata": {},
   "source": [
    "Initialize object "
   ]
  },
  {
   "cell_type": "code",
   "execution_count": 4,
   "metadata": {
    "collapsed": true
   },
   "outputs": [],
   "source": [
    "o_handler = VdriveToMtex(vdrive_handler_file=vdrive_filename)"
   ]
  },
  {
   "cell_type": "markdown",
   "metadata": {},
   "source": [
    "Load data"
   ]
  },
  {
   "cell_type": "code",
   "execution_count": 7,
   "metadata": {
    "collapsed": true
   },
   "outputs": [],
   "source": [
    "data = pd.read_csv(vdrive_filename, sep='\\t')"
   ]
  },
  {
   "cell_type": "code",
   "execution_count": 8,
   "metadata": {},
   "outputs": [
    {
     "data": {
      "text/html": [
       "<div>\n",
       "<style>\n",
       "    .dataframe thead tr:only-child th {\n",
       "        text-align: right;\n",
       "    }\n",
       "\n",
       "    .dataframe thead th {\n",
       "        text-align: left;\n",
       "    }\n",
       "\n",
       "    .dataframe tbody tr th {\n",
       "        vertical-align: top;\n",
       "    }\n",
       "</style>\n",
       "<table border=\"1\" class=\"dataframe\">\n",
       "  <thead>\n",
       "    <tr style=\"text-align: right;\">\n",
       "      <th></th>\n",
       "      <th>y</th>\n",
       "      <th>j</th>\n",
       "      <th>I/V_Fe-111_1</th>\n",
       "      <th>I/V_Fe-200_1</th>\n",
       "      <th>I/V_Fe-220_1</th>\n",
       "      <th>I/V_Fe-311_1</th>\n",
       "      <th>I/V_Fe-222_1</th>\n",
       "      <th>I/V_Fe-400_1</th>\n",
       "      <th>I/V_Fe-331_1</th>\n",
       "      <th>I/V_Fe-420_1</th>\n",
       "      <th>I/V_Fe-422_1</th>\n",
       "      <th>I/V_Fe-531_1</th>\n",
       "    </tr>\n",
       "  </thead>\n",
       "  <tbody>\n",
       "    <tr>\n",
       "      <th>0</th>\n",
       "      <td>0</td>\n",
       "      <td>0</td>\n",
       "      <td>0.812640</td>\n",
       "      <td>1.452050</td>\n",
       "      <td>0.711520</td>\n",
       "      <td>0.927503</td>\n",
       "      <td>0.809388</td>\n",
       "      <td>1.424946</td>\n",
       "      <td>0.601256</td>\n",
       "      <td>0.693169</td>\n",
       "      <td>0.719132</td>\n",
       "      <td>1.316715</td>\n",
       "    </tr>\n",
       "    <tr>\n",
       "      <th>1</th>\n",
       "      <td>5</td>\n",
       "      <td>30</td>\n",
       "      <td>0.702029</td>\n",
       "      <td>1.727361</td>\n",
       "      <td>0.604477</td>\n",
       "      <td>0.795381</td>\n",
       "      <td>0.681152</td>\n",
       "      <td>1.705310</td>\n",
       "      <td>0.636809</td>\n",
       "      <td>0.700272</td>\n",
       "      <td>0.892544</td>\n",
       "      <td>1.146670</td>\n",
       "    </tr>\n",
       "    <tr>\n",
       "      <th>2</th>\n",
       "      <td>5</td>\n",
       "      <td>60</td>\n",
       "      <td>0.660330</td>\n",
       "      <td>1.848286</td>\n",
       "      <td>0.644271</td>\n",
       "      <td>0.809338</td>\n",
       "      <td>0.669732</td>\n",
       "      <td>1.871940</td>\n",
       "      <td>0.581240</td>\n",
       "      <td>0.736904</td>\n",
       "      <td>0.790984</td>\n",
       "      <td>1.476769</td>\n",
       "    </tr>\n",
       "    <tr>\n",
       "      <th>3</th>\n",
       "      <td>5</td>\n",
       "      <td>90</td>\n",
       "      <td>0.733149</td>\n",
       "      <td>1.759387</td>\n",
       "      <td>0.777081</td>\n",
       "      <td>0.772522</td>\n",
       "      <td>0.779609</td>\n",
       "      <td>1.789216</td>\n",
       "      <td>0.569585</td>\n",
       "      <td>0.770188</td>\n",
       "      <td>0.908390</td>\n",
       "      <td>1.478020</td>\n",
       "    </tr>\n",
       "    <tr>\n",
       "      <th>4</th>\n",
       "      <td>5</td>\n",
       "      <td>120</td>\n",
       "      <td>0.782842</td>\n",
       "      <td>1.565342</td>\n",
       "      <td>0.704357</td>\n",
       "      <td>0.755036</td>\n",
       "      <td>0.771645</td>\n",
       "      <td>1.512697</td>\n",
       "      <td>0.567696</td>\n",
       "      <td>0.678636</td>\n",
       "      <td>0.866421</td>\n",
       "      <td>1.384879</td>\n",
       "    </tr>\n",
       "  </tbody>\n",
       "</table>\n",
       "</div>"
      ],
      "text/plain": [
       "   y    j  I/V_Fe-111_1  I/V_Fe-200_1  I/V_Fe-220_1  I/V_Fe-311_1  \\\n",
       "0  0    0      0.812640      1.452050      0.711520      0.927503   \n",
       "1  5   30      0.702029      1.727361      0.604477      0.795381   \n",
       "2  5   60      0.660330      1.848286      0.644271      0.809338   \n",
       "3  5   90      0.733149      1.759387      0.777081      0.772522   \n",
       "4  5  120      0.782842      1.565342      0.704357      0.755036   \n",
       "\n",
       "   I/V_Fe-222_1  I/V_Fe-400_1  I/V_Fe-331_1  I/V_Fe-420_1  I/V_Fe-422_1  \\\n",
       "0      0.809388      1.424946      0.601256      0.693169      0.719132   \n",
       "1      0.681152      1.705310      0.636809      0.700272      0.892544   \n",
       "2      0.669732      1.871940      0.581240      0.736904      0.790984   \n",
       "3      0.779609      1.789216      0.569585      0.770188      0.908390   \n",
       "4      0.771645      1.512697      0.567696      0.678636      0.866421   \n",
       "\n",
       "   I/V_Fe-531_1  \n",
       "0      1.316715  \n",
       "1      1.146670  \n",
       "2      1.476769  \n",
       "3      1.478020  \n",
       "4      1.384879  "
      ]
     },
     "execution_count": 8,
     "metadata": {},
     "output_type": "execute_result"
    }
   ],
   "source": [
    "data.head()\n"
   ]
  },
  {
   "cell_type": "code",
   "execution_count": 12,
   "metadata": {},
   "outputs": [
    {
     "data": {
      "text/plain": [
       "(217, 12)"
      ]
     },
     "execution_count": 12,
     "metadata": {},
     "output_type": "execute_result"
    }
   ],
   "source": [
    "np.shape(data)\n"
   ]
  },
  {
   "cell_type": "code",
   "execution_count": null,
   "metadata": {
    "collapsed": true
   },
   "outputs": [],
   "source": []
  }
 ],
 "metadata": {
  "kernelspec": {
   "display_name": "Python 3",
   "language": "python",
   "name": "python3"
  },
  "toc": {
   "colors": {
    "hover_highlight": "#DAA520",
    "running_highlight": "#FF0000",
    "selected_highlight": "#FFD700"
   },
   "moveMenuLeft": true,
   "nav_menu": {
    "height": "48px",
    "width": "252px"
   },
   "navigate_menu": true,
   "number_sections": true,
   "sideBar": true,
   "threshold": 4,
   "toc_cell": false,
   "toc_section_display": "block",
   "toc_window_display": false
  }
 },
 "nbformat": 4,
 "nbformat_minor": 2
}
