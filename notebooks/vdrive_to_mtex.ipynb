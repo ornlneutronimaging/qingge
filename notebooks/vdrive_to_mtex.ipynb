{
 "cells": [
  {
   "cell_type": "code",
   "execution_count": 1,
   "metadata": {
    "run_control": {
     "frozen": false,
     "read_only": false
    }
   },
   "outputs": [],
   "source": [
    "import pandas as pd\n",
    "import sys, os\n",
    "import re\n",
    "import numpy as np\n",
    "sys.path.insert(0, os.path.abspath('..'))\n",
    "from project.preparation.vdrive_to_mtex import VDriveToMtex"
   ]
  },
  {
   "cell_type": "markdown",
   "metadata": {
    "run_control": {
     "frozen": false,
     "read_only": false
    }
   },
   "source": [
    "# How it works "
   ]
  },
  {
   "cell_type": "markdown",
   "metadata": {
    "run_control": {
     "frozen": false,
     "read_only": false
    }
   },
   "source": [
    "## Step by step"
   ]
  },
  {
   "cell_type": "code",
   "execution_count": 2,
   "metadata": {
    "run_control": {
     "frozen": false,
     "read_only": false
    }
   },
   "outputs": [],
   "source": [
    "vdrive_filename = '../tests/data/my_ducu.txt'\n",
    "assert os.path.exists(vdrive_filename)"
   ]
  },
  {
   "cell_type": "markdown",
   "metadata": {
    "run_control": {
     "frozen": false,
     "read_only": false
    }
   },
   "source": [
    "Initialize object "
   ]
  },
  {
   "cell_type": "code",
   "execution_count": 3,
   "metadata": {
    "run_control": {
     "frozen": false,
     "read_only": false
    }
   },
   "outputs": [],
   "source": [
    "o_handler = VDriveToMtex(vdrive_handler_file=vdrive_filename)"
   ]
  },
  {
   "cell_type": "markdown",
   "metadata": {
    "run_control": {
     "frozen": false,
     "read_only": false
    }
   },
   "source": [
    "Load data"
   ]
  },
  {
   "cell_type": "code",
   "execution_count": 4,
   "metadata": {
    "run_control": {
     "frozen": false,
     "read_only": false
    }
   },
   "outputs": [],
   "source": [
    "o_handler.load()"
   ]
  },
  {
   "cell_type": "code",
   "execution_count": 5,
   "metadata": {
    "run_control": {
     "frozen": false,
     "read_only": false
    }
   },
   "outputs": [
    {
     "data": {
      "text/html": [
       "<div>\n",
       "<style>\n",
       "    .dataframe thead tr:only-child th {\n",
       "        text-align: right;\n",
       "    }\n",
       "\n",
       "    .dataframe thead th {\n",
       "        text-align: left;\n",
       "    }\n",
       "\n",
       "    .dataframe tbody tr th {\n",
       "        vertical-align: top;\n",
       "    }\n",
       "</style>\n",
       "<table border=\"1\" class=\"dataframe\">\n",
       "  <thead>\n",
       "    <tr style=\"text-align: right;\">\n",
       "      <th></th>\n",
       "      <th>#psi</th>\n",
       "      <th>phi</th>\n",
       "      <th>I/V_Ni111_1</th>\n",
       "      <th>I/V_Ni200_1</th>\n",
       "      <th>I/V_Ni220_1</th>\n",
       "      <th>I/V_Ni311_1</th>\n",
       "      <th>I/V_Ni222_1</th>\n",
       "      <th>I/V_Ni400_1</th>\n",
       "      <th>I/V_Ni331_1</th>\n",
       "      <th>I/V_Ni420_1</th>\n",
       "      <th>I/V_Ni422_1</th>\n",
       "      <th>I/V_Ni511_1</th>\n",
       "    </tr>\n",
       "  </thead>\n",
       "  <tbody>\n",
       "    <tr>\n",
       "      <th>0</th>\n",
       "      <td>0</td>\n",
       "      <td>0</td>\n",
       "      <td>0.812640</td>\n",
       "      <td>1.452050</td>\n",
       "      <td>0.711520</td>\n",
       "      <td>0.927503</td>\n",
       "      <td>0.809388</td>\n",
       "      <td>1.424946</td>\n",
       "      <td>0.601256</td>\n",
       "      <td>0.699247</td>\n",
       "      <td>0.637840</td>\n",
       "      <td>1.009798</td>\n",
       "    </tr>\n",
       "    <tr>\n",
       "      <th>1</th>\n",
       "      <td>5</td>\n",
       "      <td>30</td>\n",
       "      <td>0.702029</td>\n",
       "      <td>1.727361</td>\n",
       "      <td>0.604477</td>\n",
       "      <td>0.795381</td>\n",
       "      <td>0.681152</td>\n",
       "      <td>1.705310</td>\n",
       "      <td>0.636809</td>\n",
       "      <td>0.706412</td>\n",
       "      <td>0.791649</td>\n",
       "      <td>0.879390</td>\n",
       "    </tr>\n",
       "    <tr>\n",
       "      <th>2</th>\n",
       "      <td>5</td>\n",
       "      <td>60</td>\n",
       "      <td>0.660330</td>\n",
       "      <td>1.848286</td>\n",
       "      <td>0.644271</td>\n",
       "      <td>0.809338</td>\n",
       "      <td>0.669732</td>\n",
       "      <td>1.871940</td>\n",
       "      <td>0.581240</td>\n",
       "      <td>0.743365</td>\n",
       "      <td>0.701569</td>\n",
       "      <td>1.132545</td>\n",
       "    </tr>\n",
       "    <tr>\n",
       "      <th>3</th>\n",
       "      <td>5</td>\n",
       "      <td>90</td>\n",
       "      <td>0.733149</td>\n",
       "      <td>1.759387</td>\n",
       "      <td>0.777081</td>\n",
       "      <td>0.772522</td>\n",
       "      <td>0.779609</td>\n",
       "      <td>1.789216</td>\n",
       "      <td>0.569585</td>\n",
       "      <td>0.776940</td>\n",
       "      <td>0.805704</td>\n",
       "      <td>1.133505</td>\n",
       "    </tr>\n",
       "    <tr>\n",
       "      <th>4</th>\n",
       "      <td>5</td>\n",
       "      <td>120</td>\n",
       "      <td>0.782842</td>\n",
       "      <td>1.565342</td>\n",
       "      <td>0.704357</td>\n",
       "      <td>0.755036</td>\n",
       "      <td>0.771645</td>\n",
       "      <td>1.512697</td>\n",
       "      <td>0.567696</td>\n",
       "      <td>0.684586</td>\n",
       "      <td>0.768479</td>\n",
       "      <td>1.062074</td>\n",
       "    </tr>\n",
       "  </tbody>\n",
       "</table>\n",
       "</div>"
      ],
      "text/plain": [
       "   #psi  phi  I/V_Ni111_1  I/V_Ni200_1  I/V_Ni220_1  I/V_Ni311_1  I/V_Ni222_1  \\\n",
       "0     0    0     0.812640     1.452050     0.711520     0.927503     0.809388   \n",
       "1     5   30     0.702029     1.727361     0.604477     0.795381     0.681152   \n",
       "2     5   60     0.660330     1.848286     0.644271     0.809338     0.669732   \n",
       "3     5   90     0.733149     1.759387     0.777081     0.772522     0.779609   \n",
       "4     5  120     0.782842     1.565342     0.704357     0.755036     0.771645   \n",
       "\n",
       "   I/V_Ni400_1  I/V_Ni331_1  I/V_Ni420_1  I/V_Ni422_1  I/V_Ni511_1  \n",
       "0     1.424946     0.601256     0.699247     0.637840     1.009798  \n",
       "1     1.705310     0.636809     0.706412     0.791649     0.879390  \n",
       "2     1.871940     0.581240     0.743365     0.701569     1.132545  \n",
       "3     1.789216     0.569585     0.776940     0.805704     1.133505  \n",
       "4     1.512697     0.567696     0.684586     0.768479     1.062074  "
      ]
     },
     "execution_count": 5,
     "metadata": {},
     "output_type": "execute_result"
    }
   ],
   "source": [
    "data = o_handler.raw_data\n",
    "data.head()"
   ]
  },
  {
   "cell_type": "markdown",
   "metadata": {
    "run_control": {
     "frozen": false,
     "read_only": false
    }
   },
   "source": [
    "sort the data"
   ]
  },
  {
   "cell_type": "code",
   "execution_count": 6,
   "metadata": {
    "run_control": {
     "frozen": false,
     "read_only": false
    }
   },
   "outputs": [
    {
     "data": {
      "text/html": [
       "<div>\n",
       "<style>\n",
       "    .dataframe thead tr:only-child th {\n",
       "        text-align: right;\n",
       "    }\n",
       "\n",
       "    .dataframe thead th {\n",
       "        text-align: left;\n",
       "    }\n",
       "\n",
       "    .dataframe tbody tr th {\n",
       "        vertical-align: top;\n",
       "    }\n",
       "</style>\n",
       "<table border=\"1\" class=\"dataframe\">\n",
       "  <thead>\n",
       "    <tr style=\"text-align: right;\">\n",
       "      <th></th>\n",
       "      <th>#psi</th>\n",
       "      <th>phi</th>\n",
       "      <th>I/V_Ni111_1</th>\n",
       "      <th>I/V_Ni200_1</th>\n",
       "      <th>I/V_Ni220_1</th>\n",
       "      <th>I/V_Ni311_1</th>\n",
       "      <th>I/V_Ni222_1</th>\n",
       "      <th>I/V_Ni400_1</th>\n",
       "      <th>I/V_Ni331_1</th>\n",
       "      <th>I/V_Ni420_1</th>\n",
       "      <th>I/V_Ni422_1</th>\n",
       "      <th>I/V_Ni511_1</th>\n",
       "    </tr>\n",
       "  </thead>\n",
       "  <tbody>\n",
       "    <tr>\n",
       "      <th>0</th>\n",
       "      <td>0</td>\n",
       "      <td>0</td>\n",
       "      <td>0.812640</td>\n",
       "      <td>1.452050</td>\n",
       "      <td>0.711520</td>\n",
       "      <td>0.927503</td>\n",
       "      <td>0.809388</td>\n",
       "      <td>1.424946</td>\n",
       "      <td>0.601256</td>\n",
       "      <td>0.699247</td>\n",
       "      <td>0.637840</td>\n",
       "      <td>1.009798</td>\n",
       "    </tr>\n",
       "    <tr>\n",
       "      <th>12</th>\n",
       "      <td>5</td>\n",
       "      <td>0</td>\n",
       "      <td>0.842873</td>\n",
       "      <td>1.524866</td>\n",
       "      <td>0.630656</td>\n",
       "      <td>0.983314</td>\n",
       "      <td>0.859583</td>\n",
       "      <td>1.488942</td>\n",
       "      <td>0.796039</td>\n",
       "      <td>0.693231</td>\n",
       "      <td>1.053056</td>\n",
       "      <td>0.981382</td>\n",
       "    </tr>\n",
       "    <tr>\n",
       "      <th>1</th>\n",
       "      <td>5</td>\n",
       "      <td>30</td>\n",
       "      <td>0.702029</td>\n",
       "      <td>1.727361</td>\n",
       "      <td>0.604477</td>\n",
       "      <td>0.795381</td>\n",
       "      <td>0.681152</td>\n",
       "      <td>1.705310</td>\n",
       "      <td>0.636809</td>\n",
       "      <td>0.706412</td>\n",
       "      <td>0.791649</td>\n",
       "      <td>0.879390</td>\n",
       "    </tr>\n",
       "    <tr>\n",
       "      <th>2</th>\n",
       "      <td>5</td>\n",
       "      <td>60</td>\n",
       "      <td>0.660330</td>\n",
       "      <td>1.848286</td>\n",
       "      <td>0.644271</td>\n",
       "      <td>0.809338</td>\n",
       "      <td>0.669732</td>\n",
       "      <td>1.871940</td>\n",
       "      <td>0.581240</td>\n",
       "      <td>0.743365</td>\n",
       "      <td>0.701569</td>\n",
       "      <td>1.132545</td>\n",
       "    </tr>\n",
       "    <tr>\n",
       "      <th>3</th>\n",
       "      <td>5</td>\n",
       "      <td>90</td>\n",
       "      <td>0.733149</td>\n",
       "      <td>1.759387</td>\n",
       "      <td>0.777081</td>\n",
       "      <td>0.772522</td>\n",
       "      <td>0.779609</td>\n",
       "      <td>1.789216</td>\n",
       "      <td>0.569585</td>\n",
       "      <td>0.776940</td>\n",
       "      <td>0.805704</td>\n",
       "      <td>1.133505</td>\n",
       "    </tr>\n",
       "  </tbody>\n",
       "</table>\n",
       "</div>"
      ],
      "text/plain": [
       "    #psi  phi  I/V_Ni111_1  I/V_Ni200_1  I/V_Ni220_1  I/V_Ni311_1  \\\n",
       "0      0    0     0.812640     1.452050     0.711520     0.927503   \n",
       "12     5    0     0.842873     1.524866     0.630656     0.983314   \n",
       "1      5   30     0.702029     1.727361     0.604477     0.795381   \n",
       "2      5   60     0.660330     1.848286     0.644271     0.809338   \n",
       "3      5   90     0.733149     1.759387     0.777081     0.772522   \n",
       "\n",
       "    I/V_Ni222_1  I/V_Ni400_1  I/V_Ni331_1  I/V_Ni420_1  I/V_Ni422_1  \\\n",
       "0      0.809388     1.424946     0.601256     0.699247     0.637840   \n",
       "12     0.859583     1.488942     0.796039     0.693231     1.053056   \n",
       "1      0.681152     1.705310     0.636809     0.706412     0.791649   \n",
       "2      0.669732     1.871940     0.581240     0.743365     0.701569   \n",
       "3      0.779609     1.789216     0.569585     0.776940     0.805704   \n",
       "\n",
       "    I/V_Ni511_1  \n",
       "0      1.009798  \n",
       "12     0.981382  \n",
       "1      0.879390  \n",
       "2      1.132545  \n",
       "3      1.133505  "
      ]
     },
     "execution_count": 6,
     "metadata": {},
     "output_type": "execute_result"
    }
   ],
   "source": [
    "o_handler.sort_raw_data()\n",
    "data_sorted = o_handler.raw_data_sorted\n",
    "data_sorted.head()"
   ]
  },
  {
   "cell_type": "markdown",
   "metadata": {
    "run_control": {
     "frozen": false,
     "read_only": false
    }
   },
   "source": [
    "format the data into their a111, a200, a220, a311 and a222 arrays"
   ]
  },
  {
   "cell_type": "code",
   "execution_count": 7,
   "metadata": {},
   "outputs": [],
   "source": [
    "o_handler.interpolation()"
   ]
  },
  {
   "cell_type": "code",
   "execution_count": 8,
   "metadata": {},
   "outputs": [],
   "source": [
    "output_file = '/Users/j35/Desktop/my_VULCAN.rpf'\n",
    "o_handler.export(filename=output_file)"
   ]
  },
  {
   "cell_type": "code",
   "execution_count": null,
   "metadata": {
    "collapsed": true
   },
   "outputs": [],
   "source": []
  }
 ],
 "metadata": {
  "kernelspec": {
   "display_name": "Python 3",
   "language": "python",
   "name": "python3"
  },
  "language_info": {
   "codemirror_mode": {
    "name": "ipython",
    "version": 3
   },
   "file_extension": ".py",
   "mimetype": "text/x-python",
   "name": "python",
   "nbconvert_exporter": "python",
   "pygments_lexer": "ipython3",
   "version": "3.6.4"
  },
  "toc": {
   "colors": {
    "hover_highlight": "#DAA520",
    "running_highlight": "#FF0000",
    "selected_highlight": "#FFD700"
   },
   "moveMenuLeft": true,
   "nav_menu": {
    "height": "48px",
    "width": "252px"
   },
   "navigate_menu": true,
   "number_sections": true,
   "sideBar": true,
   "threshold": 4,
   "toc_cell": false,
   "toc_section_display": "block",
   "toc_window_display": false
  }
 },
 "nbformat": 4,
 "nbformat_minor": 2
}
