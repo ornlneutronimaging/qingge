{
 "cells": [
  {
   "cell_type": "code",
   "execution_count": 1,
   "metadata": {
    "run_control": {
     "frozen": false,
     "read_only": false
    }
   },
   "outputs": [],
   "source": [
    "import pandas as pd\n",
    "import sys, os\n",
    "import re\n",
    "import numpy as np\n",
    "sys.path.insert(0, os.path.abspath('..'))\n",
    "from project.preparation.vdrive_to_mtex import VdriveToMtex"
   ]
  },
  {
   "cell_type": "markdown",
   "metadata": {
    "run_control": {
     "frozen": false,
     "read_only": false
    }
   },
   "source": [
    "# How it works "
   ]
  },
  {
   "cell_type": "markdown",
   "metadata": {
    "run_control": {
     "frozen": false,
     "read_only": false
    }
   },
   "source": [
    "## Step by step"
   ]
  },
  {
   "cell_type": "code",
   "execution_count": 2,
   "metadata": {
    "run_control": {
     "frozen": false,
     "read_only": false
    }
   },
   "outputs": [],
   "source": [
    "vdrive_filename = '../tests/data/my_ducu.txt'\n",
    "assert os.path.exists(vdrive_filename)"
   ]
  },
  {
   "cell_type": "markdown",
   "metadata": {
    "run_control": {
     "frozen": false,
     "read_only": false
    }
   },
   "source": [
    "Initialize object "
   ]
  },
  {
   "cell_type": "code",
   "execution_count": 3,
   "metadata": {
    "run_control": {
     "frozen": false,
     "read_only": false
    }
   },
   "outputs": [],
   "source": [
    "o_handler = VdriveToMtex(vdrive_handler_file=vdrive_filename)"
   ]
  },
  {
   "cell_type": "markdown",
   "metadata": {
    "run_control": {
     "frozen": false,
     "read_only": false
    }
   },
   "source": [
    "Load data"
   ]
  },
  {
   "cell_type": "code",
   "execution_count": 4,
   "metadata": {
    "run_control": {
     "frozen": false,
     "read_only": false
    }
   },
   "outputs": [],
   "source": [
    "o_handler.load()"
   ]
  },
  {
   "cell_type": "code",
   "execution_count": 5,
   "metadata": {
    "run_control": {
     "frozen": false,
     "read_only": false
    }
   },
   "outputs": [
    {
     "data": {
      "text/html": [
       "<div>\n",
       "<style>\n",
       "    .dataframe thead tr:only-child th {\n",
       "        text-align: right;\n",
       "    }\n",
       "\n",
       "    .dataframe thead th {\n",
       "        text-align: left;\n",
       "    }\n",
       "\n",
       "    .dataframe tbody tr th {\n",
       "        vertical-align: top;\n",
       "    }\n",
       "</style>\n",
       "<table border=\"1\" class=\"dataframe\">\n",
       "  <thead>\n",
       "    <tr style=\"text-align: right;\">\n",
       "      <th></th>\n",
       "      <th>#psi</th>\n",
       "      <th>phi</th>\n",
       "      <th>I/V_Ni111_1</th>\n",
       "      <th>I/V_Ni200_1</th>\n",
       "      <th>I/V_Ni220_1</th>\n",
       "      <th>I/V_Ni311_1</th>\n",
       "      <th>I/V_Ni222_1</th>\n",
       "      <th>I/V_Ni400_1</th>\n",
       "      <th>I/V_Ni331_1</th>\n",
       "      <th>I/V_Ni420_1</th>\n",
       "      <th>I/V_Ni422_1</th>\n",
       "      <th>I/V_Ni511_1</th>\n",
       "    </tr>\n",
       "  </thead>\n",
       "  <tbody>\n",
       "    <tr>\n",
       "      <th>0</th>\n",
       "      <td>0</td>\n",
       "      <td>0</td>\n",
       "      <td>0.812640</td>\n",
       "      <td>1.452050</td>\n",
       "      <td>0.711520</td>\n",
       "      <td>0.927503</td>\n",
       "      <td>0.809388</td>\n",
       "      <td>1.424946</td>\n",
       "      <td>0.601256</td>\n",
       "      <td>0.699247</td>\n",
       "      <td>0.637840</td>\n",
       "      <td>1.009798</td>\n",
       "    </tr>\n",
       "    <tr>\n",
       "      <th>1</th>\n",
       "      <td>5</td>\n",
       "      <td>30</td>\n",
       "      <td>0.702029</td>\n",
       "      <td>1.727361</td>\n",
       "      <td>0.604477</td>\n",
       "      <td>0.795381</td>\n",
       "      <td>0.681152</td>\n",
       "      <td>1.705310</td>\n",
       "      <td>0.636809</td>\n",
       "      <td>0.706412</td>\n",
       "      <td>0.791649</td>\n",
       "      <td>0.879390</td>\n",
       "    </tr>\n",
       "    <tr>\n",
       "      <th>2</th>\n",
       "      <td>5</td>\n",
       "      <td>60</td>\n",
       "      <td>0.660330</td>\n",
       "      <td>1.848286</td>\n",
       "      <td>0.644271</td>\n",
       "      <td>0.809338</td>\n",
       "      <td>0.669732</td>\n",
       "      <td>1.871940</td>\n",
       "      <td>0.581240</td>\n",
       "      <td>0.743365</td>\n",
       "      <td>0.701569</td>\n",
       "      <td>1.132545</td>\n",
       "    </tr>\n",
       "    <tr>\n",
       "      <th>3</th>\n",
       "      <td>5</td>\n",
       "      <td>90</td>\n",
       "      <td>0.733149</td>\n",
       "      <td>1.759387</td>\n",
       "      <td>0.777081</td>\n",
       "      <td>0.772522</td>\n",
       "      <td>0.779609</td>\n",
       "      <td>1.789216</td>\n",
       "      <td>0.569585</td>\n",
       "      <td>0.776940</td>\n",
       "      <td>0.805704</td>\n",
       "      <td>1.133505</td>\n",
       "    </tr>\n",
       "    <tr>\n",
       "      <th>4</th>\n",
       "      <td>5</td>\n",
       "      <td>120</td>\n",
       "      <td>0.782842</td>\n",
       "      <td>1.565342</td>\n",
       "      <td>0.704357</td>\n",
       "      <td>0.755036</td>\n",
       "      <td>0.771645</td>\n",
       "      <td>1.512697</td>\n",
       "      <td>0.567696</td>\n",
       "      <td>0.684586</td>\n",
       "      <td>0.768479</td>\n",
       "      <td>1.062074</td>\n",
       "    </tr>\n",
       "  </tbody>\n",
       "</table>\n",
       "</div>"
      ],
      "text/plain": [
       "   #psi  phi  I/V_Ni111_1  I/V_Ni200_1  I/V_Ni220_1  I/V_Ni311_1  I/V_Ni222_1  \\\n",
       "0     0    0     0.812640     1.452050     0.711520     0.927503     0.809388   \n",
       "1     5   30     0.702029     1.727361     0.604477     0.795381     0.681152   \n",
       "2     5   60     0.660330     1.848286     0.644271     0.809338     0.669732   \n",
       "3     5   90     0.733149     1.759387     0.777081     0.772522     0.779609   \n",
       "4     5  120     0.782842     1.565342     0.704357     0.755036     0.771645   \n",
       "\n",
       "   I/V_Ni400_1  I/V_Ni331_1  I/V_Ni420_1  I/V_Ni422_1  I/V_Ni511_1  \n",
       "0     1.424946     0.601256     0.699247     0.637840     1.009798  \n",
       "1     1.705310     0.636809     0.706412     0.791649     0.879390  \n",
       "2     1.871940     0.581240     0.743365     0.701569     1.132545  \n",
       "3     1.789216     0.569585     0.776940     0.805704     1.133505  \n",
       "4     1.512697     0.567696     0.684586     0.768479     1.062074  "
      ]
     },
     "execution_count": 5,
     "metadata": {},
     "output_type": "execute_result"
    }
   ],
   "source": [
    "data = o_handler.raw_data\n",
    "data.head()"
   ]
  },
  {
   "cell_type": "markdown",
   "metadata": {
    "run_control": {
     "frozen": false,
     "read_only": false
    }
   },
   "source": [
    "sort the data"
   ]
  },
  {
   "cell_type": "code",
   "execution_count": 6,
   "metadata": {
    "run_control": {
     "frozen": false,
     "read_only": false
    }
   },
   "outputs": [
    {
     "data": {
      "text/html": [
       "<div>\n",
       "<style>\n",
       "    .dataframe thead tr:only-child th {\n",
       "        text-align: right;\n",
       "    }\n",
       "\n",
       "    .dataframe thead th {\n",
       "        text-align: left;\n",
       "    }\n",
       "\n",
       "    .dataframe tbody tr th {\n",
       "        vertical-align: top;\n",
       "    }\n",
       "</style>\n",
       "<table border=\"1\" class=\"dataframe\">\n",
       "  <thead>\n",
       "    <tr style=\"text-align: right;\">\n",
       "      <th></th>\n",
       "      <th>#psi</th>\n",
       "      <th>phi</th>\n",
       "      <th>I/V_Ni111_1</th>\n",
       "      <th>I/V_Ni200_1</th>\n",
       "      <th>I/V_Ni220_1</th>\n",
       "      <th>I/V_Ni311_1</th>\n",
       "      <th>I/V_Ni222_1</th>\n",
       "      <th>I/V_Ni400_1</th>\n",
       "      <th>I/V_Ni331_1</th>\n",
       "      <th>I/V_Ni420_1</th>\n",
       "      <th>I/V_Ni422_1</th>\n",
       "      <th>I/V_Ni511_1</th>\n",
       "    </tr>\n",
       "  </thead>\n",
       "  <tbody>\n",
       "    <tr>\n",
       "      <th>0</th>\n",
       "      <td>0</td>\n",
       "      <td>0</td>\n",
       "      <td>0.812640</td>\n",
       "      <td>1.452050</td>\n",
       "      <td>0.711520</td>\n",
       "      <td>0.927503</td>\n",
       "      <td>0.809388</td>\n",
       "      <td>1.424946</td>\n",
       "      <td>0.601256</td>\n",
       "      <td>0.699247</td>\n",
       "      <td>0.637840</td>\n",
       "      <td>1.009798</td>\n",
       "    </tr>\n",
       "    <tr>\n",
       "      <th>12</th>\n",
       "      <td>5</td>\n",
       "      <td>0</td>\n",
       "      <td>0.842873</td>\n",
       "      <td>1.524866</td>\n",
       "      <td>0.630656</td>\n",
       "      <td>0.983314</td>\n",
       "      <td>0.859583</td>\n",
       "      <td>1.488942</td>\n",
       "      <td>0.796039</td>\n",
       "      <td>0.693231</td>\n",
       "      <td>1.053056</td>\n",
       "      <td>0.981382</td>\n",
       "    </tr>\n",
       "    <tr>\n",
       "      <th>1</th>\n",
       "      <td>5</td>\n",
       "      <td>30</td>\n",
       "      <td>0.702029</td>\n",
       "      <td>1.727361</td>\n",
       "      <td>0.604477</td>\n",
       "      <td>0.795381</td>\n",
       "      <td>0.681152</td>\n",
       "      <td>1.705310</td>\n",
       "      <td>0.636809</td>\n",
       "      <td>0.706412</td>\n",
       "      <td>0.791649</td>\n",
       "      <td>0.879390</td>\n",
       "    </tr>\n",
       "    <tr>\n",
       "      <th>2</th>\n",
       "      <td>5</td>\n",
       "      <td>60</td>\n",
       "      <td>0.660330</td>\n",
       "      <td>1.848286</td>\n",
       "      <td>0.644271</td>\n",
       "      <td>0.809338</td>\n",
       "      <td>0.669732</td>\n",
       "      <td>1.871940</td>\n",
       "      <td>0.581240</td>\n",
       "      <td>0.743365</td>\n",
       "      <td>0.701569</td>\n",
       "      <td>1.132545</td>\n",
       "    </tr>\n",
       "    <tr>\n",
       "      <th>3</th>\n",
       "      <td>5</td>\n",
       "      <td>90</td>\n",
       "      <td>0.733149</td>\n",
       "      <td>1.759387</td>\n",
       "      <td>0.777081</td>\n",
       "      <td>0.772522</td>\n",
       "      <td>0.779609</td>\n",
       "      <td>1.789216</td>\n",
       "      <td>0.569585</td>\n",
       "      <td>0.776940</td>\n",
       "      <td>0.805704</td>\n",
       "      <td>1.133505</td>\n",
       "    </tr>\n",
       "  </tbody>\n",
       "</table>\n",
       "</div>"
      ],
      "text/plain": [
       "    #psi  phi  I/V_Ni111_1  I/V_Ni200_1  I/V_Ni220_1  I/V_Ni311_1  \\\n",
       "0      0    0     0.812640     1.452050     0.711520     0.927503   \n",
       "12     5    0     0.842873     1.524866     0.630656     0.983314   \n",
       "1      5   30     0.702029     1.727361     0.604477     0.795381   \n",
       "2      5   60     0.660330     1.848286     0.644271     0.809338   \n",
       "3      5   90     0.733149     1.759387     0.777081     0.772522   \n",
       "\n",
       "    I/V_Ni222_1  I/V_Ni400_1  I/V_Ni331_1  I/V_Ni420_1  I/V_Ni422_1  \\\n",
       "0      0.809388     1.424946     0.601256     0.699247     0.637840   \n",
       "12     0.859583     1.488942     0.796039     0.693231     1.053056   \n",
       "1      0.681152     1.705310     0.636809     0.706412     0.791649   \n",
       "2      0.669732     1.871940     0.581240     0.743365     0.701569   \n",
       "3      0.779609     1.789216     0.569585     0.776940     0.805704   \n",
       "\n",
       "    I/V_Ni511_1  \n",
       "0      1.009798  \n",
       "12     0.981382  \n",
       "1      0.879390  \n",
       "2      1.132545  \n",
       "3      1.133505  "
      ]
     },
     "execution_count": 6,
     "metadata": {},
     "output_type": "execute_result"
    }
   ],
   "source": [
    "o_handler.sort_raw_data()\n",
    "data_sorted = o_handler.raw_data_sorted\n",
    "data_sorted.head()"
   ]
  },
  {
   "cell_type": "markdown",
   "metadata": {
    "run_control": {
     "frozen": false,
     "read_only": false
    }
   },
   "source": [
    "format the data into their a111, a200, a220, a311 and a222 arrays"
   ]
  },
  {
   "cell_type": "code",
   "execution_count": 7,
   "metadata": {},
   "outputs": [
    {
     "name": "stdout",
     "output_type": "stream",
     "text": [
      "(13,)\n",
      "(13,)\n",
      "(13,)\n",
      "(13,)\n",
      "(13,)\n",
      "(13,)\n",
      "(13,)\n",
      "(13,)\n",
      "(13,)\n",
      "(13,)\n",
      "(13,)\n",
      "(13,)\n",
      "(13,)\n",
      "(13,)\n",
      "(13,)\n",
      "(13,)\n",
      "(13,)\n",
      "(13,)\n",
      "(13,)\n",
      "(13,)\n",
      "(13,)\n",
      "(13,)\n",
      "(13,)\n",
      "(13,)\n",
      "(13,)\n",
      "(13,)\n",
      "(13,)\n",
      "(13,)\n",
      "(13,)\n",
      "(13,)\n",
      "(13,)\n",
      "(13,)\n",
      "(13,)\n",
      "(13,)\n",
      "(13,)\n",
      "(13,)\n",
      "(13,)\n",
      "(13,)\n"
     ]
    }
   ],
   "source": [
    "o_handler.interpolation()"
   ]
  },
  {
   "cell_type": "code",
   "execution_count": 15,
   "metadata": {},
   "outputs": [],
   "source": [
    "a1 = np.array(o_handler.a111_interpolated)"
   ]
  },
  {
   "cell_type": "code",
   "execution_count": 16,
   "metadata": {},
   "outputs": [
    {
     "data": {
      "text/plain": [
       "array([0.84287312, 0.81939913, 0.79592514, 0.77245115, 0.74897716,\n",
       "       0.72550317, 0.70202918, 0.69507933, 0.68812948, 0.68117964,\n",
       "       0.67422979, 0.66727994, 0.66033009, 0.67246659, 0.68460309,\n",
       "       0.69673959, 0.70887608, 0.72101258, 0.73314908, 0.7414312 ,\n",
       "       0.74971332, 0.75799544, 0.76627756, 0.77455968, 0.78284181,\n",
       "       0.79179665, 0.80075149, 0.80970633, 0.81866117, 0.82761601,\n",
       "       0.83657086, 0.84013974, 0.84370863, 0.84727752, 0.85084641,\n",
       "       0.8544153 , 0.85798419, 0.88796334, 0.91794249, 0.94792164,\n",
       "       0.97790078, 1.00787993, 1.03785908, 1.04341321, 1.04896735,\n",
       "       1.05452148, 1.06007561, 1.06562974, 1.07118387, 1.0594005 ,\n",
       "       1.04761712, 1.03583374, 1.02405036, 1.01226698, 1.0004836 ,\n",
       "       1.00304999, 1.00561638, 1.00818278, 1.01074917, 1.01331556,\n",
       "       1.01588195, 1.01131535, 1.00674876, 1.00218216, 0.99761556,\n",
       "       0.99304896, 0.98848236, 0.96421416, 0.93994595, 0.91567774,\n",
       "       0.89140953, 0.86714133])"
      ]
     },
     "execution_count": 16,
     "metadata": {},
     "output_type": "execute_result"
    }
   ],
   "source": [
    "a1[1,:]"
   ]
  },
  {
   "cell_type": "code",
   "execution_count": 8,
   "metadata": {},
   "outputs": [
    {
     "data": {
      "text/plain": [
       "(19, 72)"
      ]
     },
     "execution_count": 8,
     "metadata": {},
     "output_type": "execute_result"
    }
   ],
   "source": [
    "a111_interpolated = o_handler.a111_interpolated\n",
    "# print(a111_interpolated)\n",
    "np.shape(a111_interpolated)"
   ]
  },
  {
   "cell_type": "code",
   "execution_count": 9,
   "metadata": {
    "run_control": {
     "frozen": false,
     "read_only": false
    }
   },
   "outputs": [
    {
     "name": "stdout",
     "output_type": "stream",
     "text": [
      "[[0.81264008 0.81264008 0.81264008 0.81264008 0.81264008 0.81264008\n",
      "  0.81264008 0.81264008 0.81264008 0.81264008 0.81264008 0.81264008]\n",
      " [0.84287312 0.70202918 0.66033009 0.73314908 0.78284181 0.83657086\n",
      "  0.85798419 1.03785908 1.07118387 1.0004836  1.01588195 0.98848236]\n",
      " [0.94641923 0.7830507  0.66577358 0.69504582 0.66915277 0.76497203\n",
      "  0.820337   0.89113105 0.91994634 1.04188137 0.99360502 1.02826093]\n",
      " [0.92652573 0.93796197 1.00088764 0.79701252 0.73120444 0.63055178\n",
      "  0.72842354 0.66274537 0.6853093  0.65493447 0.86763136 0.81268304]\n",
      " [0.92222536 0.88697934 0.93165715 0.93775382 0.87206267 0.75333254\n",
      "  0.68154471 0.54400624 0.61929913 0.76592101 0.80907359 0.84883157]\n",
      " [1.22723958 1.08306212 0.80485645 0.83218541 0.89863567 1.01121567\n",
      "  0.97749938 0.87412154 0.84093826 0.86601183 0.87667207 0.83603543]\n",
      " [1.35687407 1.4654019  1.09946914 0.71917346 0.89147407 0.81740908\n",
      "  0.94677943 0.92110097 0.85328919 0.89303171 1.64350745 0.93166034]\n",
      " [1.39126485 1.34494245 1.23666602 0.84577399 1.36316856 0.90785727\n",
      "  0.74287122 1.080119   0.94465113 1.04331591 1.36533372 1.19484013]\n",
      " [1.40774377 1.54306882 1.12323335 1.16112978 1.39856271 0.95004457\n",
      "  1.12225734 0.97361834 1.20109499 1.49760244 1.47004522 1.4043861 ]\n",
      " [1.18461383 1.13940037 1.30132973 1.24926041 1.06107724 1.31105214\n",
      "  1.16162739 0.98171109 0.94210653 1.39622409 1.35153566 0.92944958]\n",
      " [1.16305084 0.87924477 2.30718635 1.01526225 1.28644903 1.49105429\n",
      "  1.63367773 1.40255621 1.14283063 1.57848672 1.15448212 0.77954647]\n",
      " [0.9622226  0.94269575 1.95778005 1.23951135 1.36540657 1.41389851\n",
      "  1.99565665 2.05732236 1.21461502 1.49192527 1.01882519 1.05626106]\n",
      " [0.92778433 0.88416017 1.29221342 1.61777879 1.39473414 1.24978596\n",
      "  1.87278636 2.51490759 1.19399976 1.49800346 0.86064794 1.06362284]\n",
      " [0.92359385 0.80495846 0.95918139 1.62258975 1.35031097 1.2602728\n",
      "  1.59037172 2.10147526 0.94223641 1.23977368 0.88103651 0.84344367]\n",
      " [0.79964318 0.59213592 0.82024996 1.08776719 1.2157558  1.15324789\n",
      "  1.19527762 1.28514418 1.1368604  0.8552162  0.88256001 0.70175353]\n",
      " [0.57914163 0.72652547 0.69953204 0.66176676 1.73174356 1.1498227\n",
      "  1.04474165 1.01975228 1.22921959 0.6280238  0.74980382 0.58995129]\n",
      " [0.51893712 0.80820318 0.57829071 0.53784836 1.44955373 0.92182266\n",
      "  1.01265924 0.9099126  0.89971037 0.54898499 0.56450741 0.56837907]\n",
      " [0.64979884 0.63776204 0.6910141  0.5660597  0.67507653 0.91947073\n",
      "  0.79209977 0.67043573 0.66120014 0.46918837 0.51536217 0.50713835]\n",
      " [0.53745518 0.42099916 0.77064508 0.48617377 0.64665971 0.74519348\n",
      "  0.77627183 0.52903434 0.82470512 0.41510226 0.41249728 0.42552603]]\n",
      "(19, 12)\n"
     ]
    }
   ],
   "source": [
    "a111 = o_handler.a111\n",
    "print(a111)\n",
    "print(np.shape(a111))"
   ]
  },
  {
   "cell_type": "code",
   "execution_count": 10,
   "metadata": {
    "run_control": {
     "frozen": false,
     "read_only": false
    }
   },
   "outputs": [
    {
     "name": "stdout",
     "output_type": "stream",
     "text": [
      "[0.92652573 0.93796197 1.00088764 0.79701252 0.73120444 0.63055178\n",
      " 0.72842354 0.66274537 0.6853093  0.65493447 0.86763136 0.81268304]\n"
     ]
    }
   ],
   "source": [
    "print(a111[3,:])\n"
   ]
  },
  {
   "cell_type": "code",
   "execution_count": null,
   "metadata": {
    "run_control": {
     "frozen": false,
     "read_only": false
    }
   },
   "outputs": [],
   "source": []
  },
  {
   "cell_type": "markdown",
   "metadata": {
    "run_control": {
     "frozen": false,
     "read_only": false
    }
   },
   "source": [
    "testing interpolation"
   ]
  },
  {
   "cell_type": "code",
   "execution_count": 11,
   "metadata": {
    "run_control": {
     "frozen": false,
     "read_only": false
    }
   },
   "outputs": [],
   "source": [
    "yaxis = a111[1,:]\n",
    "xaxis = np.arange(0,359, 30)"
   ]
  },
  {
   "cell_type": "code",
   "execution_count": 12,
   "metadata": {},
   "outputs": [
    {
     "data": {
      "text/plain": [
       "array([0.84287312, 0.70202918, 0.66033009, 0.73314908, 0.78284181,\n",
       "       0.83657086, 0.85798419, 1.03785908, 1.07118387, 1.0004836 ,\n",
       "       1.01588195, 0.98848236])"
      ]
     },
     "execution_count": 12,
     "metadata": {},
     "output_type": "execute_result"
    }
   ],
   "source": [
    "yaxis"
   ]
  },
  {
   "cell_type": "code",
   "execution_count": 13,
   "metadata": {
    "collapsed": true
   },
   "outputs": [],
   "source": [
    "new_xaxis = np.array([0, 5,10,15,20,25,30,35,40])"
   ]
  },
  {
   "cell_type": "code",
   "execution_count": 16,
   "metadata": {},
   "outputs": [
    {
     "data": {
      "text/plain": [
       "72"
      ]
     },
     "execution_count": 16,
     "metadata": {},
     "output_type": "execute_result"
    }
   ],
   "source": [
    "new_xaxis = np.arange(0,359, 5)\n",
    "len(new_xaxis)"
   ]
  },
  {
   "cell_type": "code",
   "execution_count": 43,
   "metadata": {
    "collapsed": true
   },
   "outputs": [],
   "source": [
    "from scipy.interpolate import interp1d"
   ]
  },
  {
   "cell_type": "code",
   "execution_count": 44,
   "metadata": {
    "collapsed": true
   },
   "outputs": [],
   "source": [
    "f = interp1d(xaxis, yaxis)"
   ]
  },
  {
   "cell_type": "code",
   "execution_count": 45,
   "metadata": {},
   "outputs": [
    {
     "data": {
      "text/plain": [
       "array([0.84287312, 0.81939913, 0.79592514, 0.77245115, 0.74897716,\n",
       "       0.72550317, 0.70202918, 0.69507933, 0.68812948, 0.68117964,\n",
       "       0.67422979, 0.66727994, 0.66033009, 0.67246659, 0.68460309,\n",
       "       0.69673959, 0.70887608, 0.72101258, 0.73314908, 0.7414312 ,\n",
       "       0.74971332, 0.75799544, 0.76627756, 0.77455968, 0.78284181,\n",
       "       0.79179665, 0.80075149, 0.80970633, 0.81866117, 0.82761601,\n",
       "       0.83657086, 0.84013974, 0.84370863, 0.84727752, 0.85084641,\n",
       "       0.8544153 , 0.85798419, 0.88796334, 0.91794249, 0.94792164,\n",
       "       0.97790078, 1.00787993, 1.03785908, 1.04341321, 1.04896735,\n",
       "       1.05452148, 1.06007561, 1.06562974, 1.07118387, 1.0594005 ,\n",
       "       1.04761712, 1.03583374, 1.02405036, 1.01226698, 1.0004836 ,\n",
       "       1.00304999, 1.00561638, 1.00818278, 1.01074917, 1.01331556,\n",
       "       1.01588195, 1.01131535, 1.00674876, 1.00218216, 0.99761556,\n",
       "       0.99304896, 0.98848236])"
      ]
     },
     "execution_count": 45,
     "metadata": {},
     "output_type": "execute_result"
    }
   ],
   "source": [
    "f(new_xaxis)"
   ]
  },
  {
   "cell_type": "code",
   "execution_count": null,
   "metadata": {
    "collapsed": true
   },
   "outputs": [],
   "source": []
  }
 ],
 "metadata": {
  "kernelspec": {
   "display_name": "Python 3",
   "language": "python",
   "name": "python3"
  },
  "language_info": {
   "codemirror_mode": {
    "name": "ipython",
    "version": 3
   },
   "file_extension": ".py",
   "mimetype": "text/x-python",
   "name": "python",
   "nbconvert_exporter": "python",
   "pygments_lexer": "ipython3",
   "version": "3.6.2"
  },
  "toc": {
   "colors": {
    "hover_highlight": "#DAA520",
    "running_highlight": "#FF0000",
    "selected_highlight": "#FFD700"
   },
   "moveMenuLeft": true,
   "nav_menu": {
    "height": "48px",
    "width": "252px"
   },
   "navigate_menu": true,
   "number_sections": true,
   "sideBar": true,
   "threshold": 4,
   "toc_cell": false,
   "toc_section_display": "block",
   "toc_window_display": false
  }
 },
 "nbformat": 4,
 "nbformat_minor": 2
}
