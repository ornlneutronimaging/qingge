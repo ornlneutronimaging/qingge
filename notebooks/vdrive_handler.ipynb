{
 "cells": [
  {
   "cell_type": "code",
   "execution_count": 15,
   "metadata": {
    "run_control": {
     "frozen": false,
     "read_only": false
    }
   },
   "outputs": [],
   "source": [
    "import sys, os\n",
    "sys.path.insert(0, os.path.abspath('..'))\n",
    "from project.preparation.vdrive_handler import VDriveHandler\n",
    "\n",
    "import numpy as np\n",
    "import re"
   ]
  },
  {
   "cell_type": "code",
   "execution_count": 6,
   "metadata": {
    "run_control": {
     "frozen": false,
     "read_only": false
    }
   },
   "outputs": [],
   "source": [
    "vdrive_filename = '../tests/data/vdrive_filename.txt'\n",
    "assert os.path.exists(vdrive_filename)"
   ]
  },
  {
   "cell_type": "code",
   "execution_count": 7,
   "metadata": {
    "run_control": {
     "frozen": false,
     "read_only": false
    }
   },
   "outputs": [],
   "source": [
    "import pandas as pd"
   ]
  },
  {
   "cell_type": "code",
   "execution_count": 8,
   "metadata": {
    "run_control": {
     "frozen": false,
     "read_only": false
    }
   },
   "outputs": [],
   "source": [
    "pd_data = pd.read_csv(vdrive_filename, sep='\\t', index_col=0)"
   ]
  },
  {
   "cell_type": "code",
   "execution_count": 9,
   "metadata": {
    "run_control": {
     "frozen": false,
     "read_only": false
    }
   },
   "outputs": [
    {
     "data": {
      "text/html": [
       "<div>\n",
       "<style>\n",
       "    .dataframe thead tr:only-child th {\n",
       "        text-align: right;\n",
       "    }\n",
       "\n",
       "    .dataframe thead th {\n",
       "        text-align: left;\n",
       "    }\n",
       "\n",
       "    .dataframe tbody tr th {\n",
       "        vertical-align: top;\n",
       "    }\n",
       "</style>\n",
       "<table border=\"1\" class=\"dataframe\">\n",
       "  <thead>\n",
       "    <tr style=\"text-align: right;\">\n",
       "      <th></th>\n",
       "      <th>GoodFit_Ni111_1</th>\n",
       "      <th>ChiSq_Ni111_1</th>\n",
       "      <th>d_Ni111_1</th>\n",
       "      <th>ed_Ni111_1</th>\n",
       "      <th>Tof_Ni111_1</th>\n",
       "      <th>eTof_Ni111_1</th>\n",
       "      <th>I/V_Ni111_1</th>\n",
       "      <th>eI/V_Ni111_1</th>\n",
       "      <th>I/V1_Ni111_1</th>\n",
       "      <th>eI/V1_Ni111_1</th>\n",
       "      <th>...</th>\n",
       "      <th>B/V_Ni511_2</th>\n",
       "      <th>eB/V_Ni511_2</th>\n",
       "      <th>Sig^2_Ni511_2</th>\n",
       "      <th>eSig^2_Ni511_2</th>\n",
       "      <th>Gam_Ni511_2</th>\n",
       "      <th>eGam_Ni511_2</th>\n",
       "      <th>FWHM_Ni511_2</th>\n",
       "      <th>eFWHM_Ni511_2</th>\n",
       "      <th>Strain_Ni511_2</th>\n",
       "      <th>eStrain_Ni511_2</th>\n",
       "    </tr>\n",
       "    <tr>\n",
       "      <th>Run</th>\n",
       "      <th></th>\n",
       "      <th></th>\n",
       "      <th></th>\n",
       "      <th></th>\n",
       "      <th></th>\n",
       "      <th></th>\n",
       "      <th></th>\n",
       "      <th></th>\n",
       "      <th></th>\n",
       "      <th></th>\n",
       "      <th></th>\n",
       "      <th></th>\n",
       "      <th></th>\n",
       "      <th></th>\n",
       "      <th></th>\n",
       "      <th></th>\n",
       "      <th></th>\n",
       "      <th></th>\n",
       "      <th></th>\n",
       "      <th></th>\n",
       "      <th></th>\n",
       "    </tr>\n",
       "  </thead>\n",
       "  <tbody>\n",
       "    <tr>\n",
       "      <th>78901.0</th>\n",
       "      <td>1.0</td>\n",
       "      <td>6.01</td>\n",
       "      <td>2.077895</td>\n",
       "      <td>0.000137</td>\n",
       "      <td>34.0123</td>\n",
       "      <td>0.002245</td>\n",
       "      <td>2.56048</td>\n",
       "      <td>0.055237</td>\n",
       "      <td>2.56048</td>\n",
       "      <td>0.055237</td>\n",
       "      <td>...</td>\n",
       "      <td>0.000928</td>\n",
       "      <td>0.000028</td>\n",
       "      <td>909.505</td>\n",
       "      <td>64.57</td>\n",
       "      <td>14.2229</td>\n",
       "      <td>0.0</td>\n",
       "      <td>0.004810</td>\n",
       "      <td>0.000154</td>\n",
       "      <td>0.000000</td>\n",
       "      <td>0.000123</td>\n",
       "    </tr>\n",
       "    <tr>\n",
       "      <th>78902.0</th>\n",
       "      <td>1.0</td>\n",
       "      <td>6.27</td>\n",
       "      <td>2.078163</td>\n",
       "      <td>0.000139</td>\n",
       "      <td>34.0167</td>\n",
       "      <td>0.002276</td>\n",
       "      <td>2.67035</td>\n",
       "      <td>0.057442</td>\n",
       "      <td>2.67035</td>\n",
       "      <td>0.057442</td>\n",
       "      <td>...</td>\n",
       "      <td>0.000945</td>\n",
       "      <td>0.000026</td>\n",
       "      <td>857.585</td>\n",
       "      <td>53.62</td>\n",
       "      <td>12.6591</td>\n",
       "      <td>0.0</td>\n",
       "      <td>0.004631</td>\n",
       "      <td>0.000132</td>\n",
       "      <td>-0.000166</td>\n",
       "      <td>0.000115</td>\n",
       "    </tr>\n",
       "    <tr>\n",
       "      <th>78903.0</th>\n",
       "      <td>1.0</td>\n",
       "      <td>7.68</td>\n",
       "      <td>2.078849</td>\n",
       "      <td>0.000156</td>\n",
       "      <td>34.0279</td>\n",
       "      <td>0.002551</td>\n",
       "      <td>2.83892</td>\n",
       "      <td>0.065576</td>\n",
       "      <td>2.83892</td>\n",
       "      <td>0.065576</td>\n",
       "      <td>...</td>\n",
       "      <td>0.000929</td>\n",
       "      <td>0.000022</td>\n",
       "      <td>885.386</td>\n",
       "      <td>52.60</td>\n",
       "      <td>12.5202</td>\n",
       "      <td>0.0</td>\n",
       "      <td>0.004694</td>\n",
       "      <td>0.000127</td>\n",
       "      <td>-0.000189</td>\n",
       "      <td>0.000113</td>\n",
       "    </tr>\n",
       "    <tr>\n",
       "      <th>78904.0</th>\n",
       "      <td>1.0</td>\n",
       "      <td>5.96</td>\n",
       "      <td>2.078996</td>\n",
       "      <td>0.000152</td>\n",
       "      <td>34.0303</td>\n",
       "      <td>0.002481</td>\n",
       "      <td>2.38051</td>\n",
       "      <td>0.053063</td>\n",
       "      <td>2.38051</td>\n",
       "      <td>0.053063</td>\n",
       "      <td>...</td>\n",
       "      <td>0.000793</td>\n",
       "      <td>0.000020</td>\n",
       "      <td>841.615</td>\n",
       "      <td>60.88</td>\n",
       "      <td>12.6364</td>\n",
       "      <td>0.0</td>\n",
       "      <td>0.004591</td>\n",
       "      <td>0.000151</td>\n",
       "      <td>-0.000232</td>\n",
       "      <td>0.000121</td>\n",
       "    </tr>\n",
       "    <tr>\n",
       "      <th>78905.0</th>\n",
       "      <td>1.0</td>\n",
       "      <td>5.72</td>\n",
       "      <td>2.078901</td>\n",
       "      <td>0.000134</td>\n",
       "      <td>34.0288</td>\n",
       "      <td>0.002190</td>\n",
       "      <td>2.76638</td>\n",
       "      <td>0.055741</td>\n",
       "      <td>2.76638</td>\n",
       "      <td>0.055741</td>\n",
       "      <td>...</td>\n",
       "      <td>0.000741</td>\n",
       "      <td>0.000023</td>\n",
       "      <td>888.970</td>\n",
       "      <td>62.07</td>\n",
       "      <td>15.0035</td>\n",
       "      <td>0.0</td>\n",
       "      <td>0.004787</td>\n",
       "      <td>0.000150</td>\n",
       "      <td>-0.000331</td>\n",
       "      <td>0.000120</td>\n",
       "    </tr>\n",
       "  </tbody>\n",
       "</table>\n",
       "<p>5 rows × 400 columns</p>\n",
       "</div>"
      ],
      "text/plain": [
       "         GoodFit_Ni111_1  ChiSq_Ni111_1  d_Ni111_1  ed_Ni111_1  Tof_Ni111_1  \\\n",
       "Run                                                                           \n",
       "78901.0              1.0           6.01   2.077895    0.000137      34.0123   \n",
       "78902.0              1.0           6.27   2.078163    0.000139      34.0167   \n",
       "78903.0              1.0           7.68   2.078849    0.000156      34.0279   \n",
       "78904.0              1.0           5.96   2.078996    0.000152      34.0303   \n",
       "78905.0              1.0           5.72   2.078901    0.000134      34.0288   \n",
       "\n",
       "         eTof_Ni111_1  I/V_Ni111_1  eI/V_Ni111_1  I/V1_Ni111_1  eI/V1_Ni111_1  \\\n",
       "Run                                                                             \n",
       "78901.0      0.002245      2.56048      0.055237       2.56048       0.055237   \n",
       "78902.0      0.002276      2.67035      0.057442       2.67035       0.057442   \n",
       "78903.0      0.002551      2.83892      0.065576       2.83892       0.065576   \n",
       "78904.0      0.002481      2.38051      0.053063       2.38051       0.053063   \n",
       "78905.0      0.002190      2.76638      0.055741       2.76638       0.055741   \n",
       "\n",
       "              ...         B/V_Ni511_2  eB/V_Ni511_2  Sig^2_Ni511_2  \\\n",
       "Run           ...                                                    \n",
       "78901.0       ...            0.000928      0.000028        909.505   \n",
       "78902.0       ...            0.000945      0.000026        857.585   \n",
       "78903.0       ...            0.000929      0.000022        885.386   \n",
       "78904.0       ...            0.000793      0.000020        841.615   \n",
       "78905.0       ...            0.000741      0.000023        888.970   \n",
       "\n",
       "         eSig^2_Ni511_2  Gam_Ni511_2  eGam_Ni511_2  FWHM_Ni511_2  \\\n",
       "Run                                                                \n",
       "78901.0           64.57      14.2229           0.0      0.004810   \n",
       "78902.0           53.62      12.6591           0.0      0.004631   \n",
       "78903.0           52.60      12.5202           0.0      0.004694   \n",
       "78904.0           60.88      12.6364           0.0      0.004591   \n",
       "78905.0           62.07      15.0035           0.0      0.004787   \n",
       "\n",
       "         eFWHM_Ni511_2  Strain_Ni511_2  eStrain_Ni511_2  \n",
       "Run                                                      \n",
       "78901.0       0.000154        0.000000         0.000123  \n",
       "78902.0       0.000132       -0.000166         0.000115  \n",
       "78903.0       0.000127       -0.000189         0.000113  \n",
       "78904.0       0.000151       -0.000232         0.000121  \n",
       "78905.0       0.000150       -0.000331         0.000120  \n",
       "\n",
       "[5 rows x 400 columns]"
      ]
     },
     "execution_count": 9,
     "metadata": {},
     "output_type": "execute_result"
    }
   ],
   "source": [
    "pd_data.head()"
   ]
  },
  {
   "cell_type": "code",
   "execution_count": null,
   "metadata": {
    "collapsed": true
   },
   "outputs": [],
   "source": [
    "# keeping only the I/V.. and eI/V.. columns"
   ]
  },
  {
   "cell_type": "code",
   "execution_count": 13,
   "metadata": {
    "run_control": {
     "frozen": false,
     "read_only": false
    }
   },
   "outputs": [],
   "source": [
    "name_of_columns = pd_data.columns.values"
   ]
  },
  {
   "cell_type": "code",
   "execution_count": 20,
   "metadata": {
    "run_control": {
     "frozen": false,
     "read_only": false
    }
   },
   "outputs": [],
   "source": [
    "re_string = r'^I/V_\\w*$'\n",
    "\n",
    "columns_I_V = []\n",
    "columns_eI_V = []\n",
    "for _index, _label in enumerate(name_of_columns):\n",
    "    m = re.match(re_string, _label)\n",
    "    if m:\n",
    "        columns_I_V.append(_index)\n",
    "        columns_eI_V.append(_index+1)\n",
    "        "
   ]
  },
  {
   "cell_type": "code",
   "execution_count": 29,
   "metadata": {},
   "outputs": [
    {
     "ename": "AttributeError",
     "evalue": "'DataFrame' object has no attribute 'columm'",
     "output_type": "error",
     "traceback": [
      "\u001b[0;31m---------------------------------------------------------------------------\u001b[0m",
      "\u001b[0;31mAttributeError\u001b[0m                            Traceback (most recent call last)",
      "\u001b[0;32m<ipython-input-29-422942cfd58d>\u001b[0m in \u001b[0;36m<module>\u001b[0;34m()\u001b[0m\n\u001b[0;32m----> 1\u001b[0;31m \u001b[0mkeep_data\u001b[0m \u001b[0;34m=\u001b[0m \u001b[0mpd_data\u001b[0m\u001b[0;34m.\u001b[0m\u001b[0mcolumm\u001b[0m\u001b[0;34m[\u001b[0m\u001b[0;34m[\u001b[0m\u001b[0;36m1\u001b[0m\u001b[0;34m,\u001b[0m\u001b[0;36m2\u001b[0m\u001b[0;34m,\u001b[0m\u001b[0;36m3\u001b[0m\u001b[0;34m]\u001b[0m\u001b[0;34m]\u001b[0m\u001b[0;34m\u001b[0m\u001b[0m\n\u001b[0m",
      "\u001b[0;32m~/anaconda/envs/py36/lib/python3.6/site-packages/pandas/core/generic.py\u001b[0m in \u001b[0;36m__getattr__\u001b[0;34m(self, name)\u001b[0m\n\u001b[1;32m   3079\u001b[0m             \u001b[0;32mif\u001b[0m \u001b[0mname\u001b[0m \u001b[0;32min\u001b[0m \u001b[0mself\u001b[0m\u001b[0;34m.\u001b[0m\u001b[0m_info_axis\u001b[0m\u001b[0;34m:\u001b[0m\u001b[0;34m\u001b[0m\u001b[0m\n\u001b[1;32m   3080\u001b[0m                 \u001b[0;32mreturn\u001b[0m \u001b[0mself\u001b[0m\u001b[0;34m[\u001b[0m\u001b[0mname\u001b[0m\u001b[0;34m]\u001b[0m\u001b[0;34m\u001b[0m\u001b[0m\n\u001b[0;32m-> 3081\u001b[0;31m             \u001b[0;32mreturn\u001b[0m \u001b[0mobject\u001b[0m\u001b[0;34m.\u001b[0m\u001b[0m__getattribute__\u001b[0m\u001b[0;34m(\u001b[0m\u001b[0mself\u001b[0m\u001b[0;34m,\u001b[0m \u001b[0mname\u001b[0m\u001b[0;34m)\u001b[0m\u001b[0;34m\u001b[0m\u001b[0m\n\u001b[0m\u001b[1;32m   3082\u001b[0m \u001b[0;34m\u001b[0m\u001b[0m\n\u001b[1;32m   3083\u001b[0m     \u001b[0;32mdef\u001b[0m \u001b[0m__setattr__\u001b[0m\u001b[0;34m(\u001b[0m\u001b[0mself\u001b[0m\u001b[0;34m,\u001b[0m \u001b[0mname\u001b[0m\u001b[0;34m,\u001b[0m \u001b[0mvalue\u001b[0m\u001b[0;34m)\u001b[0m\u001b[0;34m:\u001b[0m\u001b[0;34m\u001b[0m\u001b[0m\n",
      "\u001b[0;31mAttributeError\u001b[0m: 'DataFrame' object has no attribute 'columm'"
     ]
    }
   ],
   "source": [
    "keep_data = pd_data.columm[[1,2,3]]"
   ]
  },
  {
   "cell_type": "code",
   "execution_count": null,
   "metadata": {
    "collapsed": true
   },
   "outputs": [],
   "source": []
  }
 ],
 "metadata": {
  "kernelspec": {
   "display_name": "Python 3",
   "language": "python",
   "name": "python3"
  },
  "language_info": {
   "codemirror_mode": {
    "name": "ipython",
    "version": 3
   },
   "file_extension": ".py",
   "mimetype": "text/x-python",
   "name": "python",
   "nbconvert_exporter": "python",
   "pygments_lexer": "ipython3",
   "version": "3.6.2"
  },
  "toc": {
   "colors": {
    "hover_highlight": "#DAA520",
    "running_highlight": "#FF0000",
    "selected_highlight": "#FFD700"
   },
   "moveMenuLeft": true,
   "nav_menu": {
    "height": "12px",
    "width": "252px"
   },
   "navigate_menu": true,
   "number_sections": true,
   "sideBar": true,
   "threshold": 4,
   "toc_cell": false,
   "toc_section_display": "block",
   "toc_window_display": false
  }
 },
 "nbformat": 4,
 "nbformat_minor": 2
}
